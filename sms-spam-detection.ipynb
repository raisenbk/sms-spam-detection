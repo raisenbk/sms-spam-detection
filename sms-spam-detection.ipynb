{
 "cells": [
  {
   "cell_type": "markdown",
   "id": "43cb760d",
   "metadata": {},
   "source": [
    "# Pra-Pemrosesan Data"
   ]
  },
  {
   "cell_type": "code",
   "execution_count": null,
   "id": "bd1ed938",
   "metadata": {},
   "outputs": [],
   "source": [
    "import pandas as pd\n",
    "from sklearn.feature_extraction.text import TfidfVectorizer\n",
    "from sklearn.model_selection import train_test_split\n",
    "\n",
    "dataset = pd.read_csv('dataset_sms_spam_v1.csv')\n",
    "\n",
    "X = dataset['Teks']\n",
    "y = dataset['label']\n",
    "\n",
    "X_train, X_test, y_train, y_test = train_test_split(X, y, test_size=0.2, random_state=42)\n",
    "\n",
    "tfidf_vectorizer = TfidfVectorizer()\n",
    "X_train_tfidf = tfidf_vectorizer.fit_transform(X_train)\n",
    "X_test_tfidf = tfidf_vectorizer.transform(X_test)"
   ]
  },
  {
   "cell_type": "markdown",
   "id": "7de3a28f",
   "metadata": {},
   "source": [
    "# Cek Distribusi Label"
   ]
  },
  {
   "cell_type": "code",
   "execution_count": 2,
   "id": "a9c2e523",
   "metadata": {},
   "outputs": [
    {
     "name": "stdout",
     "output_type": "stream",
     "text": [
      "0    569\n",
      "1    335\n",
      "2    239\n",
      "Name: label, dtype: int64\n"
     ]
    }
   ],
   "source": [
    "label_distribution = dataset['label'].value_counts()\n",
    "print(label_distribution)"
   ]
  },
  {
   "cell_type": "markdown",
   "id": "64081c80",
   "metadata": {},
   "source": [
    "# Cek Distribusi Kelas di Data Latih & Data Uji"
   ]
  },
  {
   "cell_type": "code",
   "execution_count": null,
   "id": "58a9b5ce",
   "metadata": {},
   "outputs": [
    {
     "name": "stdout",
     "output_type": "stream",
     "text": [
      "Distribusi Kelas di Data Latih:\n",
      "0    470\n",
      "1    253\n",
      "2    191\n",
      "Name: label, dtype: int64\n",
      "\n",
      "Distribusi Kelas di Data Uji:\n",
      "0    99\n",
      "1    82\n",
      "2    48\n",
      "Name: label, dtype: int64\n"
     ]
    }
   ],
   "source": [
    "print(\"Distribusi Kelas di Data Latih:\")\n",
    "print(y_train.value_counts())\n",
    "\n",
    "print(\"\\nDistribusi Kelas di Data Uji:\")\n",
    "print(y_test.value_counts())\n"
   ]
  },
  {
   "cell_type": "markdown",
   "id": "d7a9a8f1",
   "metadata": {},
   "source": [
    "# Melatih Model"
   ]
  },
  {
   "cell_type": "code",
   "execution_count": 4,
   "id": "b437bd0d",
   "metadata": {},
   "outputs": [
    {
     "data": {
      "text/plain": [
       "MultinomialNB()"
      ]
     },
     "execution_count": 4,
     "metadata": {},
     "output_type": "execute_result"
    }
   ],
   "source": [
    "from sklearn.naive_bayes import MultinomialNB\n",
    "\n",
    "naive_bayes = MultinomialNB()\n",
    "naive_bayes.fit(X_train_tfidf, y_train)"
   ]
  },
  {
   "cell_type": "markdown",
   "id": "89abd388",
   "metadata": {},
   "source": [
    "# Evaluasi Model"
   ]
  },
  {
   "cell_type": "code",
   "execution_count": 5,
   "id": "93e918ab",
   "metadata": {},
   "outputs": [
    {
     "name": "stdout",
     "output_type": "stream",
     "text": [
      "Akurasi: 0.9170305676855895\n",
      "              precision    recall  f1-score   support\n",
      "\n",
      "           0       0.94      0.93      0.93        99\n",
      "           1       0.97      0.89      0.93        82\n",
      "           2       0.80      0.94      0.87        48\n",
      "\n",
      "    accuracy                           0.92       229\n",
      "   macro avg       0.91      0.92      0.91       229\n",
      "weighted avg       0.92      0.92      0.92       229\n",
      "\n"
     ]
    }
   ],
   "source": [
    "from sklearn.metrics import accuracy_score, classification_report\n",
    "\n",
    "y_pred = naive_bayes.predict(X_test_tfidf)\n",
    "\n",
    "print(\"Akurasi:\", accuracy_score(y_test, y_pred))\n",
    "print(classification_report(y_test, y_pred))"
   ]
  },
  {
   "cell_type": "markdown",
   "id": "2fd35329",
   "metadata": {},
   "source": [
    "# Pengujian Model"
   ]
  },
  {
   "cell_type": "code",
   "execution_count": 6,
   "id": "336e72c2",
   "metadata": {},
   "outputs": [
    {
     "name": "stdout",
     "output_type": "stream",
     "text": [
      "Hasil prediksi klasifikasi: [2]\n"
     ]
    }
   ],
   "source": [
    "new_text = \"Nikmati DOUBLE kuota PROMO 10GB(4G) di jaringan Data terkuat, UNLIMITED Nelp&SMS. 24JAM, dgn pkt Freedom Combo. Tekan *123# atau indosatooredoo.com/freedom\"\n",
    "\n",
    "new_text_tfidf = tfidf_vectorizer.transform([new_text])\n",
    "\n",
    "predicted_class = naive_bayes.predict(new_text_tfidf)\n",
    "\n",
    "print(\"Hasil prediksi klasifikasi:\", predicted_class)"
   ]
  },
  {
   "cell_type": "code",
   "execution_count": 7,
   "id": "9ed04617",
   "metadata": {},
   "outputs": [
    {
     "name": "stdout",
     "output_type": "stream",
     "text": [
      "Hasil prediksi klasifikasi: [0]\n"
     ]
    }
   ],
   "source": [
    "new_text_1 = \"dawdadjaj nj ajwd awhdja bjhA Bw\"\n",
    "\n",
    "new_text_tfidf_1 = tfidf_vectorizer.transform([new_text_1])\n",
    "\n",
    "predicted_class_1 = naive_bayes.predict(new_text_tfidf_1)\n",
    "\n",
    "print(\"Hasil prediksi klasifikasi:\", predicted_class_1)"
   ]
  },
  {
   "cell_type": "code",
   "execution_count": 8,
   "id": "4428650e",
   "metadata": {},
   "outputs": [
    {
     "name": "stdout",
     "output_type": "stream",
     "text": [
      "Hasil prediksi klasifikasi: [1]\n"
     ]
    }
   ],
   "source": [
    "new_text_2 = \"Dapatkan e-Tiket Murah & Promo Untuk Penerbangan Domestic & International BOOKING ONLINE Info Hub: 085216181177 www.surya-travel.jimdo.com\"\n",
    "\n",
    "new_text_tfidf_2 = tfidf_vectorizer.transform([new_text_2])\n",
    "\n",
    "predicted_class_2 = naive_bayes.predict(new_text_tfidf_2)\n",
    "\n",
    "print(\"Hasil prediksi klasifikasi:\", predicted_class_2)"
   ]
  },
  {
   "cell_type": "markdown",
   "id": "d842d78c",
   "metadata": {},
   "source": [
    "# Cek Kata Suspect untuk Masing Masing Kelas"
   ]
  },
  {
   "cell_type": "code",
   "execution_count": 9,
   "id": "c6b211ce",
   "metadata": {},
   "outputs": [
    {
     "name": "stdout",
     "output_type": "stream",
     "text": [
      "\n",
      "Kelas 0:\n",
      "tidak\n",
      "nilai\n",
      "sep\n",
      "habis\n",
      "liat\n",
      "masuk\n",
      "dy\n",
      "lama\n",
      "bawa\n",
      "engga\n",
      "kang\n",
      "pulang\n",
      "sudah\n",
      "hari\n",
      "depan\n",
      "hehe\n",
      "gt\n",
      "brp\n",
      "sore\n",
      "pagi\n",
      "harus\n",
      "mana\n",
      "mohon\n",
      "kalian\n",
      "minta\n",
      "bimbingan\n",
      "min\n",
      "waktu\n",
      "semoga\n",
      "oke\n",
      "semua\n",
      "gitu\n",
      "berapa\n",
      "guys\n",
      "buat\n",
      "jd\n",
      "untuk\n",
      "wkwk\n",
      "belum\n",
      "biar\n",
      "siapa\n",
      "sih\n",
      "terus\n",
      "data\n",
      "siang\n",
      "blm\n",
      "kamu\n",
      "tau\n",
      "tapi\n",
      "dari\n",
      "iya\n",
      "bu\n",
      "jg\n",
      "kosan\n",
      "gais\n",
      "jadi\n",
      "pake\n",
      "gak\n",
      "masih\n",
      "yah\n",
      "baru\n",
      "juga\n",
      "dulu\n",
      "udh\n",
      "mah\n",
      "atau\n",
      "maaf\n",
      "boleh\n",
      "dan\n",
      "lg\n",
      "tp\n",
      "besok\n",
      "sama\n",
      "apa\n",
      "kan\n",
      "lagi\n",
      "kita\n",
      "udah\n",
      "ini\n",
      "nanti\n",
      "teh\n",
      "itu\n",
      "bisa\n",
      "kalo\n",
      "nya\n",
      "jam\n",
      "kalau\n",
      "yang\n",
      "pak\n",
      "ke\n",
      "saya\n",
      "ga\n",
      "di\n",
      "ya\n",
      "aja\n",
      "mau\n",
      "yg\n",
      "ada\n",
      "nama1\n",
      "aku\n",
      "\n",
      "Kelas 1:\n",
      "kios\n",
      "poin\n",
      "harga\n",
      "xv\n",
      "xxx\n",
      "dengan\n",
      "rs\n",
      "tronik\n",
      "hubungi\n",
      "hp\n",
      "sdh\n",
      "dulu\n",
      "uang\n",
      "sebagai\n",
      "bni\n",
      "021\n",
      "kasih\n",
      "tricare\n",
      "all\n",
      "2016\n",
      "uangnya\n",
      "8jf2177\n",
      "gebyar\n",
      "indosat\n",
      "dikirim\n",
      "pelanggan\n",
      "maaf\n",
      "telkomsel\n",
      "men\n",
      "webs\n",
      "ulang\n",
      "transfer\n",
      "yaris\n",
      "bri\n",
      "saja\n",
      "honda\n",
      "jazz\n",
      "silahkan\n",
      "surat\n",
      "sudah\n",
      "mendapatkan\n",
      "kirim\n",
      "kode\n",
      "dpt\n",
      "promo\n",
      "dri\n",
      "isi\n",
      "keputusan\n",
      "slmt\n",
      "toyota\n",
      "co\n",
      "nomor\n",
      "jt\n",
      "indonesia\n",
      "id\n",
      "kami\n",
      "bank\n",
      "untuk\n",
      "saya\n",
      "unit\n",
      "jimdo\n",
      "bpk\n",
      "tunai\n",
      "sy\n",
      "pesan\n",
      "3care\n",
      "simcard\n",
      "kunjungi\n",
      "rek\n",
      "terpilih\n",
      "undian\n",
      "dptkan\n",
      "bb\n",
      "pulsa\n",
      "yth\n",
      "care\n",
      "ini\n",
      "sms\n",
      "mobil\n",
      "dari\n",
      "cek\n",
      "selamat\n",
      "dr\n",
      "rp\n",
      "di\n",
      "ke\n",
      "hub\n",
      "pt\n",
      "pemenang\n",
      "blogspot\n",
      "tri\n",
      "resmi\n",
      "klik\n",
      "com\n",
      "hadiah\n",
      "www\n",
      "pin\n",
      "info\n",
      "no\n",
      "anda\n",
      "\n",
      "Kelas 2:\n",
      "30hr\n",
      "188\n",
      "juga\n",
      "sesuai\n",
      "hub\n",
      "jajanonline\n",
      "akan\n",
      "363\n",
      "aplikasi\n",
      "600\n",
      "60hr\n",
      "caranya\n",
      "kartu\n",
      "telkomsel\n",
      "lokasi\n",
      "00\n",
      "terbatas\n",
      "voucher\n",
      "10gb\n",
      "3gb\n",
      "lainnya\n",
      "info838\n",
      "gb\n",
      "khusus\n",
      "50\n",
      "com\n",
      "aktifkan\n",
      "buat\n",
      "000\n",
      "segera\n",
      "hingga\n",
      "selamat\n",
      "diskon\n",
      "unlimited\n",
      "selama\n",
      "dg\n",
      "penawaran\n",
      "sd\n",
      "extra\n",
      "cukup\n",
      "2gb\n",
      "freedom\n",
      "30\n",
      "tarif\n",
      "pakai\n",
      "5gb\n",
      "download\n",
      "sekarang\n",
      "dgn\n",
      "aktif\n",
      "telah\n",
      "ayo\n",
      "untuk\n",
      "2016\n",
      "ulang\n",
      "nelpon\n",
      "indosatooredoo\n",
      "cuma\n",
      "mau\n",
      "atau\n",
      "http\n",
      "flash\n",
      "mulai\n",
      "ooredoo\n",
      "buruan\n",
      "100\n",
      "dapatkan\n",
      "internet\n",
      "nikmati\n",
      "dari\n",
      "info\n",
      "4g\n",
      "rp\n",
      "indosat\n",
      "hanya\n",
      "dengan\n",
      "ini\n",
      "ke\n",
      "ketik\n",
      "123\n",
      "me\n",
      "internetan\n",
      "isi\n",
      "berlaku\n",
      "cek\n",
      "sms\n",
      "kamu\n",
      "anda\n",
      "gratis\n",
      "beli\n",
      "dan\n",
      "tsel\n",
      "promo\n",
      "utk\n",
      "pulsa\n",
      "hari\n",
      "bonus\n",
      "kuota\n",
      "paket\n",
      "di\n"
     ]
    }
   ],
   "source": [
    "import numpy as np\n",
    "\n",
    "feature_names = tfidf_vectorizer.get_feature_names_out()\n",
    "\n",
    "log_prob = naive_bayes.feature_log_prob_\n",
    "\n",
    "# Menampilkan kata-kata dengan nilai tertinggi untuk setiap kelas\n",
    "for i, label in enumerate(naive_bayes.classes_):\n",
    "    top_features = np.argsort(log_prob[i])[-100:]\n",
    "    print(f\"\\nKelas {label}:\")\n",
    "    for feature_idx in top_features:\n",
    "        print(feature_names[feature_idx])"
   ]
  }
 ],
 "metadata": {
  "kernelspec": {
   "display_name": "Python 3 (ipykernel)",
   "language": "python",
   "name": "python3"
  },
  "language_info": {
   "codemirror_mode": {
    "name": "ipython",
    "version": 3
   },
   "file_extension": ".py",
   "mimetype": "text/x-python",
   "name": "python",
   "nbconvert_exporter": "python",
   "pygments_lexer": "ipython3",
   "version": "3.9.13"
  }
 },
 "nbformat": 4,
 "nbformat_minor": 5
}
